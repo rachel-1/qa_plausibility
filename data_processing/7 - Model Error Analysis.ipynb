{
 "cells": [
  {
   "cell_type": "markdown",
   "metadata": {},
   "source": [
    "## 7) Model Error Analysis\n",
    "Visualize the errors of a trained model."
   ]
  },
  {
   "cell_type": "code",
   "execution_count": null,
   "metadata": {},
   "outputs": [],
   "source": [
    "import numpy as np\n",
    "import pandas as pd\n",
    "import os, sys\n",
    "from error_analysis import *\n",
    "\n",
    "%load_ext autoreload\n",
    "%autoreload 2"
   ]
  },
  {
   "cell_type": "code",
   "execution_count": null,
   "metadata": {},
   "outputs": [],
   "source": [
    "df_path = '../../bert_models/a_repeat/best_val_eval.csv'"
   ]
  },
  {
   "cell_type": "code",
   "execution_count": null,
   "metadata": {},
   "outputs": [],
   "source": [
    "df = pd.read_csv(df_path)\n",
    "\n",
    "def convert(x):\n",
    "    if pd.isnull(x): return None\n",
    "    if type(x) is tuple: return x\n",
    "    start_chunk, end_chunk = x.split(\",\")\n",
    "    return (int(start_chunk[1:]), int(end_chunk[:-1]))\n",
    "\n",
    "def extract_ans(tokenization, span):\n",
    "    if span is None: return None\n",
    "    return \" \".join(tokenization[span[0]: span[1]+1])\n",
    "\n",
    "if 'pred_span' in df.columns:\n",
    "    df.pred_span = df.pred_span.apply(lambda x: convert(x))\n",
    "    df.answer_intersection_span = df.answer_intersection_span.apply(lambda x: convert(x))\n",
    "    df['predicted_answer'] = df.apply(lambda row: extract_ans(row['response_filtered'].split(), row['pred_span']), axis=1)\n",
    "\n",
    "def display_func(row):\n",
    "    print(f\"{row.question} [{row.q_relevant}] {row.response_filtered} [{row.r_relevant}: {row.true_answer} | {row.predicted_answer}]\")\n",
    "   \n",
    "analyze_df(df, df_path, display_func=display_func)"
   ]
  },
  {
   "cell_type": "code",
   "execution_count": null,
   "metadata": {},
   "outputs": [],
   "source": []
  }
 ],
 "metadata": {
  "kernelspec": {
   "display_name": "Python 3",
   "language": "python",
   "name": "python3"
  },
  "language_info": {
   "codemirror_mode": {
    "name": "ipython",
    "version": 3
   },
   "file_extension": ".py",
   "mimetype": "text/x-python",
   "name": "python",
   "nbconvert_exporter": "python",
   "pygments_lexer": "ipython3",
   "version": "3.7.3"
  }
 },
 "nbformat": 4,
 "nbformat_minor": 2
}
