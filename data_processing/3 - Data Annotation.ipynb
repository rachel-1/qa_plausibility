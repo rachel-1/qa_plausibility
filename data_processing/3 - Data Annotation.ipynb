{
 "cells": [
  {
   "cell_type": "markdown",
   "metadata": {},
   "source": [
    "## 3) Data Annotation\n",
    "Create Amazon Mechanical Turk HITs. Note that this is from June 2019, so the code may no longer be compatible with the current Amazon Mechanical Turk API. It is primarily provided as reference. Because we are not releasing the data at the time, the image links within the qualifying task will no longer work."
   ]
  },
  {
   "cell_type": "markdown",
   "metadata": {},
   "source": [
    "### Setup"
   ]
  },
  {
   "cell_type": "code",
   "execution_count": null,
   "metadata": {},
   "outputs": [],
   "source": [
    "import json\n",
    "import pandas as pd\n",
    "from amt_utils import AMT\n",
    "%load_ext autoreload\n",
    "%autoreload 2"
   ]
  },
  {
   "cell_type": "code",
   "execution_count": null,
   "metadata": {},
   "outputs": [],
   "source": [
    "csv_file = '../data/second_MTurk_test.csv'\n",
    "output_csv_file = csv_file[:-len('.csv')]+'_filled.csv'"
   ]
  },
  {
   "cell_type": "markdown",
   "metadata": {},
   "source": [
    "### Load Dataframe"
   ]
  },
  {
   "cell_type": "code",
   "execution_count": null,
   "metadata": {},
   "outputs": [],
   "source": [
    "df = pd.read_csv(csv_file, index_col='index')"
   ]
  },
  {
   "cell_type": "code",
   "execution_count": null,
   "metadata": {},
   "outputs": [],
   "source": [
    "df"
   ]
  },
  {
   "cell_type": "markdown",
   "metadata": {},
   "source": [
    "### Create HIT"
   ]
  },
  {
   "cell_type": "code",
   "execution_count": null,
   "metadata": {},
   "outputs": [],
   "source": [
    "amt = AMT(production=False)\n",
    "print(\"Account balance:\", amt.balance())"
   ]
  },
  {
   "cell_type": "code",
   "execution_count": null,
   "metadata": {},
   "outputs": [],
   "source": [
    "html_layout = open('./MTurkTask.html', 'r').read()\n",
    "QUESTION_XML = \"\"\"<HTMLQuestion xmlns=\"http://mechanicalturk.amazonaws.com/AWSMechanicalTurkDataSchemas/2011-11-11/HTMLQuestion.xsd\">\n",
    "        <HTMLContent><![CDATA[{}]]></HTMLContent>\n",
    "        <FrameHeight>650</FrameHeight>\n",
    "        </HTMLQuestion>\"\"\"\n",
    "original_xml = QUESTION_XML.format(html_layout)"
   ]
  },
  {
   "cell_type": "code",
   "execution_count": null,
   "metadata": {},
   "outputs": [],
   "source": [
    "# only needed once; will throw an error if the qualifying task already exists\n",
    "csv_file = '../data/qualifying_task_filled.csv'\n",
    "amt.generate_qualifying_task(pd.read_csv(csv_file, index_col='index'), example_indices=[28,132,331,3])"
   ]
  },
  {
   "cell_type": "code",
   "execution_count": null,
   "metadata": {},
   "outputs": [],
   "source": [
    "good_workers = ['SOME_ID_HERE']\n",
    "#amt.give_qualification('TASK_ID_HERE', good_workers)\n",
    "amt.email_workers(good_workers, {\"Subject\":\"New HITs Available\", \"MessageText\":\"I have just posted the full batch of HITs for the Question/Response Classification Task. Note that it is under a new account, but your qualifications have been transferred. You can view the HITs here: https://www.mturk.com/mturk/preview?groupId=ID_HERE\"})"
   ]
  },
  {
   "cell_type": "code",
   "execution_count": null,
   "metadata": {},
   "outputs": [],
   "source": [
    "TaskAttributes = {\n",
    "    'MaxAssignments': 1, # only one Turker per HIT            \n",
    "    'LifetimeInSeconds': 24*60*60*4, # put up for 4 days\n",
    "    'AssignmentDurationInSeconds': 60*5, # give max 5 minutes to complete the HIT\n",
    "    'Reward': '0.06', # at 20s per HIT, 6 cents per HIT results in ~$12/hr                    \n",
    "    'Title': 'Answer 2 Yes/No Questions about 2 Image/Question/Response Triples',\n",
    "    'Keywords': 'visual question answering',\n",
    "    'Description': 'Determine whether the question asked about an image is valid and whether the response given is valid. You can then simply copy/paste the relevant section of the response.',\n",
    "    'QualificationRequirements': [{'QualificationTypeId':'ID_HERE',\n",
    "                                           'Comparator': 'EqualTo',\n",
    "                                           'IntegerValues':[100]}],\n",
    "    'AutoApprovalDelayInSeconds':24*60*60*7 # give 7 days before the HIT is auto-approved\n",
    "}"
   ]
  },
  {
   "cell_type": "code",
   "execution_count": null,
   "metadata": {},
   "outputs": [],
   "source": [
    "amt.create_hits(original_xml, TaskAttributes, df)\n",
    "df.to_csv(output_csv_file, index_label='index')\n",
    "# if you use df.head(5) or something which creates a copy of the df, this may not be true\n",
    "assert('hit_id' in df.columns) "
   ]
  },
  {
   "cell_type": "markdown",
   "metadata": {},
   "source": [
    "### Retrieve Results"
   ]
  },
  {
   "cell_type": "code",
   "execution_count": null,
   "metadata": {},
   "outputs": [],
   "source": [
    "# reload the csv if necessary\n",
    "df = pd.read_csv(output_csv_file, index_col='index')"
   ]
  },
  {
   "cell_type": "code",
   "execution_count": null,
   "metadata": {
    "scrolled": false
   },
   "outputs": [],
   "source": [
    "reviewable_hits = amt.get_reviewable_HITs()"
   ]
  },
  {
   "cell_type": "code",
   "execution_count": null,
   "metadata": {},
   "outputs": [],
   "source": [
    "hitIds = amt.populate_results(df)\n",
    "df.to_csv(output_csv_file, index_label=\"index\")"
   ]
  },
  {
   "cell_type": "markdown",
   "metadata": {},
   "source": [
    "### Approve and Delete HITs"
   ]
  },
  {
   "cell_type": "code",
   "execution_count": null,
   "metadata": {},
   "outputs": [],
   "source": [
    "len(hitIds)"
   ]
  },
  {
   "cell_type": "code",
   "execution_count": null,
   "metadata": {},
   "outputs": [],
   "source": [
    "amt.approve_HITs(hitIds)"
   ]
  },
  {
   "cell_type": "code",
   "execution_count": null,
   "metadata": {},
   "outputs": [],
   "source": [
    "amt.delete_HITs(reviewable_hits)"
   ]
  },
  {
   "cell_type": "markdown",
   "metadata": {},
   "source": [
    "#### Emergency Code to Delete All HITs"
   ]
  },
  {
   "cell_type": "markdown",
   "metadata": {},
   "source": [
    "hitIds = amt.get_all_HITs()#filter_fn=lambda x: x['HITStatus'] == 'Reviewable')\n",
    "#amt.approve_HITs(hitIds)\n",
    "#amt.expire_HITs(hitIds)\n",
    "#amt.delete_HITs(hitIds)"
   ]
  },
  {
   "cell_type": "code",
   "execution_count": null,
   "metadata": {},
   "outputs": [],
   "source": []
  }
 ],
 "metadata": {
  "kernelspec": {
   "display_name": "Python [conda env:qa_plausibility] *",
   "language": "python",
   "name": "conda-env-qa_plausibility-py"
  },
  "language_info": {
   "codemirror_mode": {
    "name": "ipython",
    "version": 3
   },
   "file_extension": ".py",
   "mimetype": "text/x-python",
   "name": "python",
   "nbconvert_exporter": "python",
   "pygments_lexer": "ipython3",
   "version": "3.7.3"
  }
 },
 "nbformat": 4,
 "nbformat_minor": 2
}
