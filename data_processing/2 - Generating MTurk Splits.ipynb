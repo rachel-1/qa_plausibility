{
 "cells": [
  {
   "cell_type": "markdown",
   "metadata": {},
   "source": [
    "## 2) Generating MTurk Splits\n",
    "Code to post the Amazon Mechanical Turk tasks programmatically. In Markdown mode to be extra sure this isn't re-run by accident."
   ]
  },
  {
   "cell_type": "raw",
   "metadata": {},
   "source": [
    "import pandas as pd\n",
    "df = pd.read_csv('../data/original_data_filtered.csv', index_col='index')\n",
    "df['index'] = df.index"
   ]
  },
  {
   "cell_type": "markdown",
   "metadata": {},
   "source": [
    "### Initial MTurk Test"
   ]
  },
  {
   "cell_type": "raw",
   "metadata": {},
   "source": [
    "# process for selecting initial MTurk data\n",
    "test_for_turkers = df[df.img_found].groupby('confusion_label').apply(lambda x: x.sample(100))\n",
    "chosen_records = test_for_turkers.index.levels[1]\n",
    "test_for_turkers = df.loc[chosen_records]\n",
    "test_for_turkers.to_csv('../data/initial_MTurk_test.csv', index_label='index')"
   ]
  },
  {
   "cell_type": "markdown",
   "metadata": {},
   "source": [
    "### Second MTurk Task"
   ]
  },
  {
   "cell_type": "raw",
   "metadata": {},
   "source": [
    "initial_mturk_test = pd.read_csv('../data/initial_MTurk_test.csv', index_col='index')\n",
    "print(f\"Now dropping {len(initial_mturk_test)} rows from previous splits...\")\n",
    "df = df.drop(initial_mturk_test.index)"
   ]
  },
  {
   "cell_type": "raw",
   "metadata": {},
   "source": [
    "second_mturk_run = df[df.img_found].groupby('confusion_label').apply(lambda x: x.sample(3500))\n",
    "chosen_records = second_mturk_run.index.levels[1]\n",
    "second_mturk_run = df.loc[chosen_records]\n",
    "second_mturk_run.to_csv('../data/second_MTurk_test.csv', index_label='index')"
   ]
  }
 ],
 "metadata": {
  "kernelspec": {
   "display_name": "Python 3",
   "language": "python",
   "name": "python3"
  },
  "language_info": {
   "codemirror_mode": {
    "name": "ipython",
    "version": 3
   },
   "file_extension": ".py",
   "mimetype": "text/x-python",
   "name": "python",
   "nbconvert_exporter": "python",
   "pygments_lexer": "ipython3",
   "version": "3.7.3"
  }
 },
 "nbformat": 4,
 "nbformat_minor": 2
}
